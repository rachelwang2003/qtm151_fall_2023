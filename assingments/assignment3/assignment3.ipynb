{
 "cells": [
  {
   "attachments": {},
   "cell_type": "markdown",
   "metadata": {},
   "source": [
    "# Assignment 3"
   ]
  },
  {
   "attachments": {},
   "cell_type": "markdown",
   "metadata": {},
   "source": [
    "## Submit as an HTML file"
   ]
  },
  {
   "attachments": {},
   "cell_type": "markdown",
   "metadata": {},
   "source": [
    "<font size = \"5\">\n",
    "Print your Emory ID below"
   ]
  },
  {
   "cell_type": "code",
   "execution_count": 4,
   "metadata": {},
   "outputs": [
    {
     "name": "stdout",
     "output_type": "stream",
     "text": [
      "2509241\n"
     ]
    }
   ],
   "source": [
    "print('2509241')"
   ]
  },
  {
   "attachments": {},
   "cell_type": "markdown",
   "metadata": {},
   "source": [
    "<font size = \"5\">\n",
    "\n",
    "Import the numpy and matplotlib packages"
   ]
  },
  {
   "cell_type": "code",
   "execution_count": 5,
   "metadata": {},
   "outputs": [],
   "source": [
    "import numpy as np\n",
    "import matplotlib.pyplot as plt"
   ]
  },
  {
   "attachments": {},
   "cell_type": "markdown",
   "metadata": {},
   "source": [
    "<font size = \"5\">\n",
    "\n",
    "(a) Compute a formula:\n",
    "\n",
    "<font size = \"3\">\n",
    "\n",
    "$V=P\\left(1+{\\frac {r}{n}}\\right)^{nt}$\n",
    "\n",
    "Calculate $V$ when:\n",
    "- $P = 2100 $\n",
    "- $r = 0.034$\n",
    "- $n = 4$\n",
    "- $t = 7$\n",
    "\n",
    "To get full points:\n",
    "- First define each of these variables\n",
    "- Write the formula above"
   ]
  },
  {
   "cell_type": "code",
   "execution_count": 19,
   "metadata": {},
   "outputs": [
    {
     "name": "stdout",
     "output_type": "stream",
     "text": [
      "2661.6108980682593\n"
     ]
    }
   ],
   "source": [
    "# Note (if you're interested in the context)\n",
    "# V = Accumulated value of investment\n",
    "# P =  Principal (the amount deposited)\n",
    "# r =  Quarterly interest rate\n",
    "# n = Number of quarters in a year\n",
    "# t = number of years\n",
    "\n",
    "p = 2100\n",
    "r = 0.034\n",
    "n = 4\n",
    "t = 7\n",
    "v = p*((1+(r/n))**(n*t))\n",
    "print(v)"
   ]
  },
  {
   "attachments": {},
   "cell_type": "markdown",
   "metadata": {},
   "source": [
    "<font size = \"5\">\n",
    "\n",
    "(b) Composite operations on arrays\n",
    "\n",
    "<font size = \"3\">\n",
    "\n",
    "- Define $r = 0.04\"\n",
    "- Define two arrays $A$ and $T$ using \"np.array()\", assigning the following values\n",
    "$ a = \\begin{pmatrix} a_1 \\\\ a_2 \\\\ a_3 \\end{pmatrix} = \\begin{pmatrix} 20 \\\\ 30 \\\\ 15 \\end{pmatrix}, \\qquad t = \\begin{pmatrix} t_1 \\\\ t_2 \\\\ t_3 \\end{pmatrix} = \\begin{pmatrix} 0 \\\\ 1 \\\\ 2 \\end{pmatrix} $\n",
    "\n",
    "- Use element-by-element vector operations to compute a new array $M$ of length 3:\n",
    "$ M = \\begin{pmatrix} a_1 / (1+r)^{t_0} \\\\ a_2 / (1+r)^{t_1} \\\\ a_3 / (1+r)^{t_2} \\end{pmatrix} $\n",
    "\n",
    "- Compute the sum of the values of $M$ using \"M.sum()\"\n",
    "Note: I am using subscripts to denote the individual elements of $a$ and $t$.\n",
    "\n",
    "- In the code just enter the values of $a$ and $t$.\n",
    "- To get full points you must do all of the above tasks\n"
   ]
  },
  {
   "cell_type": "code",
   "execution_count": 28,
   "metadata": {},
   "outputs": [
    {
     "name": "stdout",
     "output_type": "stream",
     "text": [
      "[20.         28.84615385 13.8683432 ]\n"
     ]
    },
    {
     "data": {
      "text/plain": [
       "62.71449704142012"
      ]
     },
     "execution_count": 28,
     "metadata": {},
     "output_type": "execute_result"
    }
   ],
   "source": [
    "r = 0.04\n",
    "vec_a  = np.array([20,30,15])\n",
    "vec_t  = np.array([0,1,2])\n",
    "vec_m = (vec_a/(1+r)**vec_t)\n",
    "print(vec_m)\n",
    "vec_m.sum()"
   ]
  },
  {
   "attachments": {},
   "cell_type": "markdown",
   "metadata": {},
   "source": [
    "<font size = \"5\">\n",
    "\n",
    "(c) Plot a normal random variable\n",
    "<font size = \"3\">\n",
    "\n",
    "To get full points:\n",
    "\n",
    "- Set a seed using \"np.random.seed()\"\n",
    "- Create the random variable with the following parameters\n",
    "- mean = 5, standard deviation = 2, and size = 1000\n",
    "\n",
    "- Create a histogram\n",
    "- Label the axes"
   ]
  },
  {
   "cell_type": "code",
   "execution_count": 23,
   "metadata": {},
   "outputs": [
    {
     "name": "stdout",
     "output_type": "stream",
     "text": [
      "[ 6.24402984  5.9092674   5.43550122  4.78367009  2.59127647  2.29495768\n",
      "  4.8167897   7.53734454  1.92767678  5.85721978  3.90241313  2.67921155\n",
      "  6.90710534  1.72812366  6.61799255  2.72013038  8.73029238  1.87232558\n",
      "  4.33800465  9.69563693  4.81232802  0.74202797  3.9954257   1.48887369\n",
      "  7.60579264  4.22962255  7.16581698  8.97622991  2.12032198  3.59600252\n",
      "  4.77183051  2.50534117  5.93586239  6.92446212  5.58137084  3.68778011\n",
      "  9.60707447  6.01026328  7.12016674  2.46745896  1.07332448  2.95895605\n",
      "  5.75219887  6.94415764  7.10117149  6.48266149  5.00776439  5.11720227\n",
      "  4.1953231   3.93199423  5.81229774  6.97955206  3.7763923   4.24200777\n",
      "  8.56888009  8.06126221  4.02853671  1.97642126  1.97489429  5.06584258\n",
      " 10.85213175  6.09791052  0.50243457  4.73985749  5.6560834   7.74893737\n",
      "  1.83278755  5.26197915  6.07019752  0.76826156  4.24399417  4.35792189\n",
      "  4.18227413  8.06662042  8.06141062  4.28895844  5.45312939  4.69580757\n",
      "  3.48797779  5.89342719  2.16302925  3.76376765  2.87558819  6.2060959\n",
      "  4.9307883   7.47674182  4.90987311  4.16274094  5.56145639  4.61581543\n",
      "  2.60735213  2.7809481   3.95644422  5.60976062  5.80957406  3.11482454\n",
      "  4.27180919  5.47944219  0.63730066  9.61526429  5.5128473   5.29671283\n",
      "  4.90617419  5.4156573   4.5569088   7.10734256  2.10185659  2.9355052\n",
      "  6.42224128  5.1718884   4.89247688  6.08394752  2.62359949  3.38588543\n",
      "  4.76181289  4.45526936  8.28436367  5.15892835  7.64725423  7.8876829\n",
      "  5.46983349  2.65322407  4.41033036  1.94036081  7.98279062  6.7199835\n",
      "  4.33239957  5.9374658   3.72033346  3.52118739  6.27496939  5.84670547\n",
      "  2.73760017  4.75700667  7.0855641   5.61226815  4.45481468  4.52100066\n",
      "  1.60771333  5.51902482 10.43186818  8.05152614  5.39324119  2.26745776\n",
      "  6.84211224  6.13529211  5.59959894  8.61873144  5.39021362  4.26406608\n",
      "  6.65330181  2.63456134  2.60954957  5.18982906  1.06410108 11.33895778\n",
      "  6.19432996  1.54489223  3.67338322  1.54530903  6.1718408   7.4745591\n",
      "  7.33368613  4.32481203  5.721818    2.8364508   7.88654891  4.18279461\n",
      "  4.92525675 10.7585781   4.24263376  2.60261608  8.89997977  7.17085181\n",
      "  5.27884947  6.90006833  4.82731385  2.79540429  5.15110834  1.87865539\n",
      "  7.83833411  2.94991728  1.68244741  4.12866624  4.17255575  9.66254126\n",
      "  5.77400451  7.10968621  7.55832418  3.92336611  4.13105408  5.39173362\n",
      "  6.5870614   5.87293913  7.49048413  4.38424832  4.93997282  4.57631711\n",
      "  3.45810947  4.70758033  2.35384647  3.02518325  1.57061195  5.46456586\n",
      "  3.59523929  6.50489042  2.9919717   5.8736122   4.07838618  0.14479915\n",
      "  7.37506486  7.83776002  7.05775039  5.22292452  4.86408914  4.19621698\n",
      "  5.62351995  3.59158985  6.97541097  4.13358391  4.86829828  2.49583847\n",
      "  8.17461277  1.8664528   1.76075764  5.13069892  2.03472187  7.60410956\n",
      "  6.01007576  6.9618523   5.33978614  5.22579504  6.64303669  3.20425854\n",
      "  4.23440336  4.06803784  3.78566746  5.32083412  3.62244945  6.30453491\n",
      "  2.71806521  2.22374843  3.70539348  4.73056526  8.76563109  6.95373287\n",
      "  4.07898367  9.47212858  5.31734134  4.38087374  4.49923702  7.4987571\n",
      "  0.96119405  5.62335263  4.76614344  6.35577122  2.87742642  1.79612049\n",
      "  5.07723185  3.45534499  4.08507607  4.78608661  5.39392793  7.39652324\n",
      "  2.71794005  5.026055    6.22914244  3.96359283  3.2370581   4.23541466\n",
      "  5.73474893 -0.21619963  2.11189263  2.28791037  8.30202258  3.82552043\n",
      "  8.73092247  2.98413429  5.10020333  0.73962596 10.74265512  4.76776432\n",
      "  3.61736489  1.86945694  3.8015333   3.96901664  3.93800358  8.12123299\n",
      "  4.12741711  3.06797385  3.77776751  7.46203933  7.12924437  6.97185516\n",
      "  4.99762689  2.63727603  9.95799661  3.22782922  4.40137833  5.59354106\n",
      "  6.14318619  6.61591446  6.43514518  5.37374826  5.11983504  6.9623062\n",
      "  5.93810934  6.12857793  7.87788195  3.34777191  6.14066738  2.63337437\n",
      "  5.4019517   5.43496998  2.27865673  6.16546376  7.5721288   7.1108494\n",
      "  3.83194282  6.12277353  4.26215287  4.13993789  6.94832717  5.43271286\n",
      "  5.74967417  6.93187681  4.90414392  3.62816189  4.86665387  4.85276037\n",
      "  2.01572752  7.38533268  5.16676468  4.42999321  7.29557753  5.32135561\n",
      "  6.80393787  5.83796872  5.14743501  2.98969059  3.30265623  6.97212889\n",
      "  8.51794973  6.06940707  1.33095932  2.20178393  8.62212835  9.28953771\n",
      "  4.74709276  6.91022766  3.42172906  6.6741656   5.05020467  3.0692695\n",
      "  6.72654192  4.61109646  5.78984701  4.22777245  3.54887924  4.13763315\n",
      "  4.76497866  4.64025842  5.313632    3.27944153  5.31697546  1.94317594\n",
      "  5.95784597  2.58865568  5.9880801   0.96220085  4.88862466  4.31445419\n",
      "  2.31077959  0.68588042  2.25140166  2.41057807 10.69708294  6.05299863\n",
      "  5.21282045  2.35663221  3.2113731   3.01643069  0.48419752  7.28672976\n",
      "  3.32105929  9.11687717  4.26829595  6.95534487  3.56739494  6.27895507\n",
      "  6.62703169  7.25079067  3.14414661  8.55514012  3.07159738  6.14948351\n",
      "  3.97859122  4.31205151  6.9888096   1.56775743  4.63652287  3.17123899\n",
      "  6.55965819  7.35579459  4.88053487 12.42834556  3.0723806   1.5044412\n",
      "  6.06559295  6.02081059  6.37883805  4.6808032   2.58928909  5.05115495\n",
      "  3.64046622  7.76263853  8.12253072  5.2402479   7.20761253  5.50302838\n",
      "  2.65206534  6.56026998  1.74746496  3.25856914  6.58909627  5.28453664\n",
      "  4.28141231  5.37616745  7.67589756  0.05894257  0.82973132  5.26353905\n",
      "  3.69041074  7.78407071  5.33815822  3.60318632  6.6333642   2.86270571\n",
      "  6.99755866  0.36685256  3.44395179  6.40107722  3.87326615  5.97537398\n",
      "  3.86841408  7.27061479  4.89496611  6.30369743  2.5892347   5.4648961\n",
      "  3.33548125  5.39729281  5.58684181  6.01543506  3.80072239  2.87164735\n",
      "  3.98495916  6.79956167  3.89953349  3.86049423  3.24581152  4.26387525\n",
      " -0.34367605  3.4574779   5.38958132  4.94969346  4.46979774  2.96415209\n",
      "  4.0564209   9.55590359  4.83702874  5.48753182  5.27525362  2.81783993\n",
      "  5.64106467  3.9673018   5.38816593  2.12728155 -0.29628243  4.1399152\n",
      "  4.62291736  4.84389523  9.13641616  7.62323087  6.57426168  0.24613596\n",
      "  2.38000504  2.75838239  3.12881939  1.45872028  2.92347763  2.5314841\n",
      "  5.06346268  3.92667582  7.10176641  7.15629974  7.19433377 -0.41811374\n",
      "  8.01853728  3.84031715  2.95554528  2.80878425  6.46922772  4.44336217\n",
      "  4.6279631   1.64096047  8.01864508  4.00403704  8.3372569   6.55822001\n",
      "  3.19507111  2.94165324 -0.49370112  3.9261841   4.47766245  7.19234032\n",
      "  7.3502219   5.7423153   4.21797791  4.19760898  7.14430793  6.23638515\n",
      "  3.75601597  0.08373077  6.0681586   4.84582858  8.31502745  2.567403\n",
      "  2.76917286  1.37236954  4.33744824  3.92118269  2.55544682  5.23982844\n",
      "  6.39076     4.34611436  1.40128796  6.05483425  2.87712599  4.76395994\n",
      "  6.09774856  2.08464773  7.65231265  4.58835133  7.73990737  4.07257423\n",
      "  3.13037534  5.57706226  3.43820248  5.96095737  3.51726044  6.45534415\n",
      "  4.23329465  5.9517314   7.98742189  5.14839218  8.12155139  3.56903103\n",
      "  0.82493048  6.6748871   5.11504095  5.26118373  4.39823367  4.85612885\n",
      "  1.03117678  8.97804458  6.01750708  6.97566538  4.80416562  5.62670281\n",
      "  6.4270376   3.31812224  7.64186786  2.69679693  6.35284307  3.83752432\n",
      "  2.98896982  5.48188777  4.2814199   3.89464764  2.96268119  5.08412543\n",
      "  6.71236661  3.00122964  3.97481804  7.28715724  5.10913461  6.93714249\n",
      "  4.47432378  5.52652471  2.60433647  7.79693209  6.76503446  2.9559984\n",
      "  6.35772408  4.28526434  6.35566138  2.83723977  7.03419177  5.74027327\n",
      "  3.62403869  5.33051195  4.14789032 10.73946009  6.48391873  4.39114593\n",
      "  7.5623027   8.36878284  5.53698228  3.15843555  3.31009675  7.39971192\n",
      "  4.13512741  3.11708336  2.41193122  3.7981253   5.44588597  7.32248783\n",
      "  3.8838835   3.2692167   3.03027901  4.10183839  7.66581264  5.08158947\n",
      "  5.55005848  3.61275542  4.55920241  6.78021628  3.2097437   5.96408237\n",
      "  8.88317729  2.73867812  4.2159468   8.44193882  5.58031666  4.79169866\n",
      "  3.62525245  8.28694326  4.81103348  2.21672871  3.05265818  2.94346385\n",
      "  5.23849961 10.2443826   5.6631535   5.03603844  2.56403042  5.3023489\n",
      "  7.48364076  4.69831462  7.18602518  4.69323996  6.14173328  5.30286473\n",
      "  5.72481123  7.26098823  1.04772821  8.25238126  7.4669379   8.12455589\n",
      "  5.09852865  3.2905528   1.87097245  5.65342031  4.54040017  4.23742101\n",
      "  2.53625622  5.00453346  0.26947934  3.24418747  4.31617725  7.84851346\n",
      " -0.37449249  4.88013474  5.23096971  5.94917221  4.06926955  3.82481563\n",
      "  3.80377513  4.35280473  3.89424805  4.02797812  6.55374173  5.69807765\n",
      "  3.23431703  1.91049445  3.86282612  4.84890998  3.56263298  4.74788544\n",
      "  7.00639716  5.58671897  3.33076005  4.0998053   4.30397081  4.5620764\n",
      "  4.7541113   5.79493106  6.79952118  4.97191207  4.61532134  9.87056924\n",
      "  7.89190879  7.22382828  5.36750229  6.76666866  6.42462554  5.58960305\n",
      "  5.95070808  5.76919599  3.4775181   5.06358433  3.02426557  7.87943609\n",
      "  4.06205564  4.62562618  4.22399269  2.34873027  5.09398284  4.99518396\n",
      " 10.19633801  6.78164239  1.00185301  6.72663245  5.2647093   5.75527922\n",
      "  5.72740754  2.44755839  5.64611455  3.34066133  6.41610672  4.5980505\n",
      "  3.9823996   4.9568377   4.03935956  5.22566922  5.23760011  2.60454028\n",
      "  4.60090615  6.2667751   5.9540971   5.49253404  5.20680817  3.9373765\n",
      "  6.22361291  6.79248176  5.04653593  2.36226256  5.05017283  6.37956871\n",
      "  9.84793413  8.83935446  4.14377679  5.07428586  7.27072047  2.78534664\n",
      "  4.45667119  5.25385095  5.68757316  5.92901859  6.07072931  5.01817734\n",
      "  6.85481773  2.21484376  6.3089574   5.1950097   1.73292964  5.21124443\n",
      "  7.81831312  3.38014888  4.49962811  6.7267464   7.5562932   4.33044872\n",
      "  2.67686386  5.05439565  4.47697745  4.00581348  4.26109078  1.75181434\n",
      "  8.7078153   5.61687447  3.3092495   5.09288773  5.34593662  7.09657373\n",
      "  6.60458681  1.76663541  5.61639669  4.62335742  7.33940741  3.36967363\n",
      "  4.87093752  3.16027456  4.08461135  7.13424498  2.63676385  9.38372147\n",
      "  4.97085409  4.91436109  4.0268627   3.03759775  2.79212746  5.59390634\n",
      "  2.56890041  5.90103408  6.3192544   6.32959978  3.67011254  5.22086646\n",
      "  5.24778784  1.63547264  4.38429148  5.12406089  2.23637982  3.41327034\n",
      "  6.74205584  2.48994603  6.69822118  2.53052233  5.94110698  5.40602292\n",
      "  2.92759118  4.5671368   7.55034644  5.95853149  2.76816158  6.10589326\n",
      "  6.63756463  2.88417116  4.55427391  1.60010888  8.71984269  3.38659893\n",
      "  6.48430119  3.81789343  5.04305653  7.18114915  2.64223205  6.14414119\n",
      "  4.72637283  2.33611007  6.22253844  8.67619608  4.32945071  5.98794291\n",
      "  6.42222558  4.07899825  5.38629068  9.13018196  7.56184679  2.83751967\n",
      "  5.23314821  4.29696869  7.92566551  5.43279138  1.87283031  7.63256125\n",
      "  6.13430016  5.07046662  8.89755281  5.32820379  5.73583008  5.79799055\n",
      "  6.29115832  4.48473168  2.80232951  5.78307687  4.52969425  5.25859121\n",
      "  7.39970949  6.56568444  4.27036194 12.15754135  3.59368665  2.94393527\n",
      "  0.14438548  6.32887826  8.05203369  8.41226631  3.3451645   4.45927255\n",
      "  7.54914522  6.83381309  5.69008615  3.28036536  4.96474415  4.06013627\n",
      "  4.18612663  3.50160154  5.05833612  4.68328187  5.2476409   5.63171372\n",
      "  5.46470366  2.76963269  4.39700784  3.42496533  4.51806133  7.54268719\n",
      "  2.12161544  3.98520313  3.58686525  3.43983806  6.76738812  5.8047612\n",
      "  5.20718986  5.2570385   4.55687512  4.72266731  9.77719142  6.0163049\n",
      "  6.57893029  5.0809192   2.89441892  6.41059286  5.83842266  6.85723372\n",
      "  5.01465264  1.47542915  6.89905994  1.04322111  7.15437468  3.9493991\n",
      "  4.97151747  3.86721857  6.27169765  5.95351881  6.17618894  6.19539611\n",
      "  5.69595178  7.90367267  6.1394012   7.35926103  8.44705815  5.24443822\n",
      "  4.57700457  4.60345583  5.55130931  6.65565964  2.59726655  3.08526351\n",
      "  0.56384578  4.29516691  8.36189389  4.40896181  4.9123586   6.97001492\n",
      "  5.61461175  3.9338718   1.26783995  7.50055942  3.35868283  8.39481189\n",
      "  4.46507705  5.54520393 10.2239824   3.18009584  4.71865956  4.46819107\n",
      " -0.25196624  2.74665896  5.85503129  5.59843942  6.17207419 10.17394682\n",
      "  1.97228531  5.50384752  8.37065946  5.03007829  1.77891615  3.6440619\n",
      "  5.46250196  4.86675844  2.8014787   4.2005214   6.7305811   4.44691852\n",
      "  3.62481246  4.44302671  2.76069248 -2.27160303  2.76341722  8.51704391\n",
      "  4.63006528  5.37634044  1.27979049  7.20828902  5.47158971  5.03772902\n",
      "  8.09230057  1.88533838  6.59479607  4.19840156  7.98821393  8.76031536\n",
      "  4.12253641  5.17604659  4.97802003  6.12891311]\n"
     ]
    },
    {
     "data": {
      "text/plain": [
       "Text(0, 0.5, 'Frequency')"
      ]
     },
     "execution_count": 23,
     "metadata": {},
     "output_type": "execute_result"
    },
    {
     "data": {
      "image/png": "[encoded data removed]",
      "text/plain": [
       "<Figure size 640x480 with 1 Axes>"
      ]
     },
     "metadata": {},
     "output_type": "display_data"
    }
   ],
   "source": [
    "np.random.seed(10245)\n",
    "random_var = np.random.normal(loc=5, scale=2, size=1000)\n",
    "print(random_var)\n",
    "plt.hist(x = random_var)\n",
    "plt.xlabel(\"Variable a\")\n",
    "plt.ylabel(\"Frequency\")"
   ]
  },
  {
   "attachments": {},
   "cell_type": "markdown",
   "metadata": {},
   "source": [
    "<font size = \"5\">\n",
    "\n",
    "(d) Checking whether word is part of list\n",
    "\n",
    "<font size = \"3\">\n",
    "\n",
    "- Define a variable \"fruit\" with the value \"apple\"\n",
    "- Define a list of fruits with the values list_fruits = [\"banana\",\"orange\",\"apple\"]\n",
    "- Write an expression to test whether \"fruit\" is contained in \"list_fruits\"\n",
    "\n",
    "Hint: Use the \"in\" command. The final output should be True/False.\n",
    "\n",
    "To get full points run all of the above commands"
   ]
  },
  {
   "cell_type": "code",
   "execution_count": 24,
   "metadata": {},
   "outputs": [
    {
     "name": "stdout",
     "output_type": "stream",
     "text": [
      "True\n"
     ]
    }
   ],
   "source": [
    "fruit = \"apple\"\n",
    "list_fruits = ['banana', 'orange', 'apple']\n",
    "print( fruit in list_fruits)"
   ]
  },
  {
   "cell_type": "markdown",
   "metadata": {},
   "source": [
    "<font size = \"5\">\n",
    "\n",
    "(e) Classifying a variable\n",
    "\n",
    "<font size = \"3\">\n",
    "\n",
    "- Define a new variable \"year\" an assign it \"2008\"\n",
    "- Write an if/else statement that does the following\n",
    "    - print(\"Year 2000 or earlier\") if the year is less than or equal to 2000.\n",
    "    - print(\"Between 2001 and 2005\") if the year is between 2001 and 2005.\n",
    "    - print(\"Year 2006 or later\") if the year is after 2005.\n",
    "\n",
    "To get full points you must do all of the above instructions"
   ]
  },
  {
   "cell_type": "code",
   "execution_count": 27,
   "metadata": {},
   "outputs": [
    {
     "name": "stdout",
     "output_type": "stream",
     "text": [
      "Year 2006 or later\n"
     ]
    }
   ],
   "source": [
    "year = 2008\n",
    "if year <= 2000:\n",
    "    print(\"Year 2000 or ealier\")\n",
    "if (year >= 2001)  &  (year <= 2005):\n",
    "    print(\"Between 2001 and 2005\")\n",
    "if year > 2006:\n",
    "    print(\"Year 2006 or later\")"
   ]
  }
 ],
 "metadata": {
  "kernelspec": {
   "display_name": "Python 3",
   "language": "python",
   "name": "python3"
  },
  "language_info": {
   "codemirror_mode": {
    "name": "ipython",
    "version": 3
   },
   "file_extension": ".py",
   "mimetype": "text/x-python",
   "name": "python",
   "nbconvert_exporter": "python",
   "pygments_lexer": "ipython3",
   "version": "3.11.4"
  },
  "orig_nbformat": 4,
  "vscode": {
   "interpreter": {
    "hash": "aee8b7b246df8f9039afb4144a1f6fd8d2ca17a180786b69acc140d282b71a49"
   }
  }
 },
 "nbformat": 4,
 "nbformat_minor": 2
}
