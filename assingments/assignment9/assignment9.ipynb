{
 "cells": [
  {
   "attachments": {},
   "cell_type": "markdown",
   "metadata": {},
   "source": [
    "# Assignment 9"
   ]
  },
  {
   "attachments": {},
   "cell_type": "markdown",
   "metadata": {},
   "source": [
    "## Try to submit as an HTML file"
   ]
  },
  {
   "attachments": {},
   "cell_type": "markdown",
   "metadata": {},
   "source": [
    "<font size = \"5\">\n",
    "Print your Emory ID below"
   ]
  },
  {
   "cell_type": "code",
   "execution_count": 2,
   "metadata": {},
   "outputs": [
    {
     "name": "stdout",
     "output_type": "stream",
     "text": [
      "2509241\n"
     ]
    }
   ],
   "source": [
    "# Write your answer here:\n",
    "print('2509241')"
   ]
  },
  {
   "attachments": {},
   "cell_type": "markdown",
   "metadata": {},
   "source": [
    "<font size = \"5\">\n",
    "\n",
    "Import the \"pandas\", \"sqlalchemy\" and \"URL\" libraries <br>\n",
    "(See Lecture 19)"
   ]
  },
  {
   "cell_type": "code",
   "execution_count": 3,
   "metadata": {},
   "outputs": [],
   "source": [
    "# Write your answer here:\n",
    "import pandas as pd\n",
    "from sqlalchemy import create_engine\n",
    "from   sqlalchemy.engine import URL\n",
    "from   sqlalchemy import text"
   ]
  },
  {
   "attachments": {},
   "cell_type": "markdown",
   "metadata": {},
   "source": [
    "<font size = \"5\">\n",
    "\n",
    "Establish a connection to the SQL server and database ```formula1``` <br>\n",
    "from Python as in Lecture 18 using <br>\n",
    "```URL()``` and ```create_engine()```"
   ]
  },
  {
   "cell_type": "code",
   "execution_count": 4,
   "metadata": {},
   "outputs": [],
   "source": [
    "# Write your own code\n",
    "url_server = URL.create(\n",
    "    \"postgresql\",\n",
    "    host = 'localhost',\n",
    "    database = 'formula1',\n",
    "    username = 'postgres',\n",
    "    port = 5433,\n",
    "    password  = '12345')\n",
    "\n",
    "connection = create_engine(url_server)"
   ]
  },
  {
   "attachments": {},
   "cell_type": "markdown",
   "metadata": {},
   "source": [
    "<font size = \"5\">\n",
    "\n",
    "In this homework, you will repeat the exercises in <br>\n",
    "Assignment 8, this time accessing SQL indirectly <br>\n",
    "from Python\n",
    "\n",
    "<font size = \"3\">\n",
    "\n",
    "- For (a)-(e) read the section <br>\n",
    "on \"Escape Characters\" carefully and how to write <br>\n",
    "strings in multiple lines\n",
    "- Remember that there is a special syntax for <br>\n",
    "column names that have capital letters"
   ]
  },
  {
   "attachments": {},
   "cell_type": "markdown",
   "metadata": {},
   "source": [
    "\n",
    "<font size = \"5\">\n",
    "\n",
    "(a) Import \"lap_times.csv\" and \"drivers.csv\"  \n",
    "\n",
    "<font size = \"3\">\n",
    "\n",
    "- Import the data using ```pd.read_csv()```\n",
    "- Upload to the server using  ```.to_sql()```\n",
    "- Upload the CSV files to the server, even if you already have the tables"
   ]
  },
  {
   "cell_type": "code",
   "execution_count": 7,
   "metadata": {},
   "outputs": [
    {
     "data": {
      "text/plain": [
       "857"
      ]
     },
     "execution_count": 7,
     "metadata": {},
     "output_type": "execute_result"
    }
   ],
   "source": [
    "# Write your own code\n",
    "lap_times = pd.read_csv(\"data_raw/lap_times.csv\")\n",
    "drivers = pd.read_csv(\"data_raw/drivers.csv\")\n",
    "lap_times.to_sql('lap_times',\n",
    "               con = connection,\n",
    "               if_exists='replace',\n",
    "               index=False)\n",
    "drivers.to_sql('drivers',\n",
    "               con = connection,\n",
    "               if_exists='replace',\n",
    "               index=False)\n"
   ]
  },
  {
   "attachments": {},
   "cell_type": "markdown",
   "metadata": {},
   "source": [
    "<font size = \"5\">\n",
    "\n",
    "(b) Subset and sort\n",
    "\n",
    "<font size = \"3\">\n",
    "\n",
    "- In this exercise use the function ```.read_sql()```\n",
    "- Use ```WHERE``` to get a subset of \"drivers\" with \n",
    "```nationality = 'American'```\n",
    "- Chain this with ```ORDER BY surname ASC``` to sort in <br>\n",
    "ascending order\n",
    "\n",
    "HINT: Use single quotes inside a string as in Lecture 20"
   ]
  },
  {
   "cell_type": "code",
   "execution_count": 10,
   "metadata": {},
   "outputs": [],
   "source": [
    "# Write your own code\n",
    "\n",
    "american = pd.read_sql(text(\"SELECT * \\\n",
    "                             FROM drivers \\\n",
    "                             WHERE nationality = 'American' \\\n",
    "                            ORDER BY surname ASC;\"), connection)\n"
   ]
  },
  {
   "attachments": {},
   "cell_type": "markdown",
   "metadata": {},
   "source": [
    "<font size = \"5\">\n",
    "\n",
    "(c) Count unique values\n",
    "\n",
    "<font size = \"3\">\n",
    "\n",
    "- In this exercise use the function ```.read_sql()```\n",
    "- Count the number of unique \"driverId\" using ```COUNT(DISTINCT ...)``` <br>\n",
    "from the dataset \"drivers\"\n",
    "\n",
    "HINT: Include \\\\\"driverId\\\\\" in double quotations with an <br>\n",
    "escape character (see Lecture 20 for details) since <br>\n",
    "it has a mix of upper and lower case letters"
   ]
  },
  {
   "cell_type": "code",
   "execution_count": 16,
   "metadata": {},
   "outputs": [],
   "source": [
    "# Write your own code\n",
    "driver_num = pd.read_sql(text(\"SELECT COUNT(DISTINCT \\\"driverId\\\") \\\n",
    "                             FROM drivers;\"), connection)"
   ]
  },
  {
   "attachments": {},
   "cell_type": "markdown",
   "metadata": {},
   "source": [
    "<font size = \"5\">\n",
    "\n",
    "(d) Groupby + Aggregate + Sort\n",
    "\n",
    "<font size = \"3\">\n",
    "\n",
    "- In this exercise use the function ```.read_sql()```\n",
    "- Obtain the average of \"milliseconds\" by \"driverId\" using ```GROUP BY```\n",
    "- User ```ORDER BY ``` to sort on the average of milliseconds\n",
    "\n",
    "HINT: Include \\\\\"driverId\\\\\" in double quotations with an <br>\n",
    "escape character (see Lecture 20 for details) since <br>\n",
    "it has a mix of upper and lower case letters"
   ]
  },
  {
   "cell_type": "code",
   "execution_count": 19,
   "metadata": {},
   "outputs": [],
   "source": [
    "# Write your own code\n",
    "milisec = pd.read_sql(text(\"SELECT AVG(milliseconds) as mean_milliseconds \\\n",
    "                             FROM lap_times \\\n",
    "                             GROUP BY \\\"driverId\\\" \\\n",
    "                            ORDER BY mean_milliseconds ASC;\"), connection)"
   ]
  },
  {
   "attachments": {},
   "cell_type": "markdown",
   "metadata": {},
   "source": [
    "<font size = \"5\">\n",
    "\n",
    "(e) Merge two tables\n",
    "\n",
    "<font size = \"3\">\n",
    "\n",
    "- In this exercise use the function ```.read_sql()```\n",
    "- Merge the tables \"lap_times\" (primary) and \"drivers\" (secondary) <br>\n",
    "on \"driverId\" using ```LEFT JOIN``` on \"driverId\".\n",
    "\n",
    "HINT: Include \\\\\"driverId\\\\\" in double quotations with an <br>\n",
    "escape character (see Lecture 20 for details) since <br>\n",
    "it has a mix of upper and lower case letters"
   ]
  },
  {
   "cell_type": "code",
   "execution_count": 20,
   "metadata": {},
   "outputs": [],
   "source": [
    "# Write your own code\n",
    "merge = pd.read_sql(text(\"SELECT * \\\n",
    "                             FROM lap_times \\\n",
    "                             LEFT JOIN drivers \\\n",
    "                             ON lap_times.\\\"driverId\\\" = drivers.\\\"driverId\\\" ;\"), connection)\n"
   ]
  }
 ],
 "metadata": {
  "kernelspec": {
   "display_name": "base",
   "language": "python",
   "name": "python3"
  },
  "language_info": {
   "codemirror_mode": {
    "name": "ipython",
    "version": 3
   },
   "file_extension": ".py",
   "mimetype": "text/x-python",
   "name": "python",
   "nbconvert_exporter": "python",
   "pygments_lexer": "ipython3",
   "version": "3.11.4"
  },
  "orig_nbformat": 4,
  "vscode": {
   "interpreter": {
    "hash": "45fc1f684f6f416f40889115beff3ddf69879b64cf4bfee48cb72a61e9d15d1a"
   }
  }
 },
 "nbformat": 4,
 "nbformat_minor": 2
}
